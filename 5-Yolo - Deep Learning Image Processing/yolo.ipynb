{
 "cells": [
  {
   "cell_type": "code",
   "execution_count": 0,
   "metadata": {
    "colab": {
     "base_uri": "https://localhost:8080/",
     "height": 153
    },
    "colab_type": "code",
    "id": "yMSIOY3S6Zx0",
    "outputId": "d9074185-54ba-4f78-e75d-66abd0ee4ad4"
   },
   "outputs": [
    {
     "name": "stdout",
     "output_type": "stream",
     "text": [
      "\u001b[K     |████████████████████████████████| 86.3MB 1.2MB/s \n",
      "\u001b[K     |████████████████████████████████| 28.7MB 1.3MB/s \n",
      "\u001b[K     |████████████████████████████████| 3.8MB 55.7MB/s \n",
      "\u001b[K     |████████████████████████████████| 450kB 76.7MB/s \n",
      "\u001b[K     |████████████████████████████████| 81kB 12.6MB/s \n",
      "\u001b[31mERROR: tensorboard 2.0.2 has requirement grpcio>=1.24.3, but you'll have grpcio 1.15.0 which is incompatible.\u001b[0m\n",
      "\u001b[31mERROR: google-colab 1.0.0 has requirement google-auth~=1.4.0, but you'll have google-auth 1.9.0 which is incompatible.\u001b[0m\n",
      "\u001b[31mERROR: albumentations 0.1.12 has requirement imgaug<0.2.7,>=0.2.5, but you'll have imgaug 0.2.9 which is incompatible.\u001b[0m\n",
      "\u001b[?25h"
     ]
    }
   ],
   "source": [
    "import os\n",
    "from os.path import exists, join, basename, splitext\n",
    "\n",
    "git_repo_url = 'https://github.com/zzh8829/yolov3-tf2.git'\n",
    "project_name = splitext(basename(git_repo_url))[0]\n",
    "if not exists(project_name):\n",
    "  # clone and install dependencies\n",
    "  !git clone -q $git_repo_url\n",
    "  !cd $project_name && pip install -q -r requirements.txt\n",
    "  \n",
    "import sys\n",
    "sys.path.append(project_name)\n",
    "import time\n",
    "import matplotlib\n",
    "import matplotlib.pylab as plt\n",
    "plt.rcParams[\"axes.grid\"] = False"
   ]
  },
  {
   "cell_type": "code",
   "execution_count": 0,
   "metadata": {
    "colab": {
     "base_uri": "https://localhost:8080/",
     "height": 34
    },
    "colab_type": "code",
    "id": "OkFKQnCbX2Vj",
    "outputId": "ef4c1778-9a9a-4435-a733-9664e2525c21"
   },
   "outputs": [
    {
     "name": "stdout",
     "output_type": "stream",
     "text": [
      "/content/yolov3-tf2\n"
     ]
    }
   ],
   "source": [
    "%cd /content/yolov3-tf2/"
   ]
  },
  {
   "cell_type": "code",
   "execution_count": 0,
   "metadata": {
    "colab": {},
    "colab_type": "code",
    "id": "EaAR9iG9NwVL"
   },
   "outputs": [],
   "source": [
    "!pip install -r requirements.txt\n",
    "  "
   ]
  },
  {
   "cell_type": "code",
   "execution_count": 0,
   "metadata": {
    "colab": {},
    "colab_type": "code",
    "id": "Fb4r24S2Mn47"
   },
   "outputs": [],
   "source": [
    "!sudo apt-add-repository -r ppa:graphics-drivers/ppa\n",
    "!sudo apt install nvidia-driver-430"
   ]
  },
  {
   "cell_type": "code",
   "execution_count": 0,
   "metadata": {
    "colab": {
     "base_uri": "https://localhost:8080/",
     "height": 1000
    },
    "colab_type": "code",
    "id": "tCyUQGr_RyKk",
    "outputId": "e1b3c872-4d31-4df5-9a75-c55c76481f6c"
   },
   "outputs": [
    {
     "name": "stdout",
     "output_type": "stream",
     "text": [
      "--2019-12-17 08:55:06--  https://pjreddie.com/media/files/yolov3.weights\n",
      "Resolving pjreddie.com (pjreddie.com)... 128.208.4.108\n",
      "Connecting to pjreddie.com (pjreddie.com)|128.208.4.108|:443... connected.\n",
      "HTTP request sent, awaiting response... 200 OK\n",
      "Length: 248007048 (237M) [application/octet-stream]\n",
      "Saving to: ‘data/yolov3.weights’\n",
      "\n",
      "data/yolov3.weights 100%[===================>] 236.52M  3.80MB/s    in 23s     \n",
      "\n",
      "2019-12-17 08:55:30 (10.3 MB/s) - ‘data/yolov3.weights’ saved [248007048/248007048]\n",
      "\n",
      "2019-12-17 08:55:33.882397: I tensorflow/core/platform/cpu_feature_guard.cc:142] Your CPU supports instructions that this TensorFlow binary was not compiled to use: AVX2 FMA\n",
      "2019-12-17 08:55:33.886994: I tensorflow/core/platform/profile_utils/cpu_utils.cc:94] CPU Frequency: 2300000000 Hz\n",
      "2019-12-17 08:55:33.887301: I tensorflow/compiler/xla/service/service.cc:168] XLA service 0x26dcbc0 executing computations on platform Host. Devices:\n",
      "2019-12-17 08:55:33.887340: I tensorflow/compiler/xla/service/service.cc:175]   StreamExecutor device (0): Host, Default Version\n",
      "Model: \"yolov3\"\n",
      "__________________________________________________________________________________________________\n",
      "Layer (type)                    Output Shape         Param #     Connected to                     \n",
      "==================================================================================================\n",
      "input_1 (InputLayer)            [(None, None, None,  0                                            \n",
      "__________________________________________________________________________________________________\n",
      "yolo_darknet (Model)            ((None, None, None,  40620640    input_1[0][0]                    \n",
      "__________________________________________________________________________________________________\n",
      "yolo_conv_0 (Model)             (None, None, None, 5 11024384    yolo_darknet[1][2]               \n",
      "__________________________________________________________________________________________________\n",
      "yolo_conv_1 (Model)             (None, None, None, 2 2957312     yolo_conv_0[1][0]                \n",
      "                                                                 yolo_darknet[1][1]               \n",
      "__________________________________________________________________________________________________\n",
      "yolo_conv_2 (Model)             (None, None, None, 1 741376      yolo_conv_1[1][0]                \n",
      "                                                                 yolo_darknet[1][0]               \n",
      "__________________________________________________________________________________________________\n",
      "yolo_output_0 (Model)           (None, None, None, 3 4984063     yolo_conv_0[1][0]                \n",
      "__________________________________________________________________________________________________\n",
      "yolo_output_1 (Model)           (None, None, None, 3 1312511     yolo_conv_1[1][0]                \n",
      "__________________________________________________________________________________________________\n",
      "yolo_output_2 (Model)           (None, None, None, 3 361471      yolo_conv_2[1][0]                \n",
      "__________________________________________________________________________________________________\n",
      "yolo_boxes_0 (Lambda)           ((None, None, None,  0           yolo_output_0[1][0]              \n",
      "__________________________________________________________________________________________________\n",
      "yolo_boxes_1 (Lambda)           ((None, None, None,  0           yolo_output_1[1][0]              \n",
      "__________________________________________________________________________________________________\n",
      "yolo_boxes_2 (Lambda)           ((None, None, None,  0           yolo_output_2[1][0]              \n",
      "__________________________________________________________________________________________________\n",
      "yolo_nms (Lambda)               ((None, 100, 4), (No 0           yolo_boxes_0[0][0]               \n",
      "                                                                 yolo_boxes_0[0][1]               \n",
      "                                                                 yolo_boxes_0[0][2]               \n",
      "                                                                 yolo_boxes_1[0][0]               \n",
      "                                                                 yolo_boxes_1[0][1]               \n",
      "                                                                 yolo_boxes_1[0][2]               \n",
      "                                                                 yolo_boxes_2[0][0]               \n",
      "                                                                 yolo_boxes_2[0][1]               \n",
      "                                                                 yolo_boxes_2[0][2]               \n",
      "==================================================================================================\n",
      "Total params: 62,001,757\n",
      "Trainable params: 61,949,149\n",
      "Non-trainable params: 52,608\n",
      "__________________________________________________________________________________________________\n",
      "I1217 08:55:43.154142 140417485649792 convert.py:19] model created\n",
      "I1217 08:55:43.156470 140417485649792 utils.py:45] yolo_darknet/conv2d bn\n",
      "I1217 08:55:43.159447 140417485649792 utils.py:45] yolo_darknet/conv2d_1 bn\n",
      "I1217 08:55:43.162090 140417485649792 utils.py:45] yolo_darknet/conv2d_2 bn\n",
      "I1217 08:55:43.164672 140417485649792 utils.py:45] yolo_darknet/conv2d_3 bn\n",
      "I1217 08:55:43.167285 140417485649792 utils.py:45] yolo_darknet/conv2d_4 bn\n",
      "I1217 08:55:43.170286 140417485649792 utils.py:45] yolo_darknet/conv2d_5 bn\n",
      "I1217 08:55:43.172929 140417485649792 utils.py:45] yolo_darknet/conv2d_6 bn\n",
      "I1217 08:55:43.175801 140417485649792 utils.py:45] yolo_darknet/conv2d_7 bn\n",
      "I1217 08:55:43.178455 140417485649792 utils.py:45] yolo_darknet/conv2d_8 bn\n",
      "I1217 08:55:43.181362 140417485649792 utils.py:45] yolo_darknet/conv2d_9 bn\n",
      "I1217 08:55:43.186919 140417485649792 utils.py:45] yolo_darknet/conv2d_10 bn\n",
      "I1217 08:55:43.189744 140417485649792 utils.py:45] yolo_darknet/conv2d_11 bn\n",
      "I1217 08:55:43.193754 140417485649792 utils.py:45] yolo_darknet/conv2d_12 bn\n",
      "I1217 08:55:43.196475 140417485649792 utils.py:45] yolo_darknet/conv2d_13 bn\n",
      "I1217 08:55:43.200561 140417485649792 utils.py:45] yolo_darknet/conv2d_14 bn\n",
      "I1217 08:55:43.203269 140417485649792 utils.py:45] yolo_darknet/conv2d_15 bn\n",
      "I1217 08:55:43.207216 140417485649792 utils.py:45] yolo_darknet/conv2d_16 bn\n",
      "I1217 08:55:43.209980 140417485649792 utils.py:45] yolo_darknet/conv2d_17 bn\n",
      "I1217 08:55:43.213979 140417485649792 utils.py:45] yolo_darknet/conv2d_18 bn\n",
      "I1217 08:55:43.216784 140417485649792 utils.py:45] yolo_darknet/conv2d_19 bn\n",
      "I1217 08:55:43.220801 140417485649792 utils.py:45] yolo_darknet/conv2d_20 bn\n",
      "I1217 08:55:43.223505 140417485649792 utils.py:45] yolo_darknet/conv2d_21 bn\n",
      "I1217 08:55:43.227447 140417485649792 utils.py:45] yolo_darknet/conv2d_22 bn\n",
      "I1217 08:55:43.230451 140417485649792 utils.py:45] yolo_darknet/conv2d_23 bn\n",
      "I1217 08:55:43.234388 140417485649792 utils.py:45] yolo_darknet/conv2d_24 bn\n",
      "I1217 08:55:43.237123 140417485649792 utils.py:45] yolo_darknet/conv2d_25 bn\n",
      "I1217 08:55:43.240993 140417485649792 utils.py:45] yolo_darknet/conv2d_26 bn\n",
      "I1217 08:55:43.251082 140417485649792 utils.py:45] yolo_darknet/conv2d_27 bn\n",
      "I1217 08:55:43.254747 140417485649792 utils.py:45] yolo_darknet/conv2d_28 bn\n",
      "I1217 08:55:43.264485 140417485649792 utils.py:45] yolo_darknet/conv2d_29 bn\n",
      "I1217 08:55:43.268223 140417485649792 utils.py:45] yolo_darknet/conv2d_30 bn\n",
      "I1217 08:55:43.277926 140417485649792 utils.py:45] yolo_darknet/conv2d_31 bn\n",
      "I1217 08:55:43.281600 140417485649792 utils.py:45] yolo_darknet/conv2d_32 bn\n",
      "I1217 08:55:43.292466 140417485649792 utils.py:45] yolo_darknet/conv2d_33 bn\n",
      "I1217 08:55:43.296077 140417485649792 utils.py:45] yolo_darknet/conv2d_34 bn\n",
      "I1217 08:55:43.305809 140417485649792 utils.py:45] yolo_darknet/conv2d_35 bn\n",
      "I1217 08:55:43.309621 140417485649792 utils.py:45] yolo_darknet/conv2d_36 bn\n",
      "I1217 08:55:43.319410 140417485649792 utils.py:45] yolo_darknet/conv2d_37 bn\n",
      "I1217 08:55:43.323075 140417485649792 utils.py:45] yolo_darknet/conv2d_38 bn\n",
      "I1217 08:55:43.332752 140417485649792 utils.py:45] yolo_darknet/conv2d_39 bn\n",
      "I1217 08:55:43.336395 140417485649792 utils.py:45] yolo_darknet/conv2d_40 bn\n",
      "I1217 08:55:43.346700 140417485649792 utils.py:45] yolo_darknet/conv2d_41 bn\n",
      "I1217 08:55:43.350641 140417485649792 utils.py:45] yolo_darknet/conv2d_42 bn\n",
      "I1217 08:55:43.360522 140417485649792 utils.py:45] yolo_darknet/conv2d_43 bn\n",
      "I1217 08:55:43.433684 140417485649792 utils.py:45] yolo_darknet/conv2d_44 bn\n",
      "I1217 08:55:43.439611 140417485649792 utils.py:45] yolo_darknet/conv2d_45 bn\n",
      "I1217 08:55:43.502319 140417485649792 utils.py:45] yolo_darknet/conv2d_46 bn\n",
      "I1217 08:55:43.508497 140417485649792 utils.py:45] yolo_darknet/conv2d_47 bn\n",
      "I1217 08:55:43.572252 140417485649792 utils.py:45] yolo_darknet/conv2d_48 bn\n",
      "I1217 08:55:43.578818 140417485649792 utils.py:45] yolo_darknet/conv2d_49 bn\n",
      "I1217 08:55:43.653700 140417485649792 utils.py:45] yolo_darknet/conv2d_50 bn\n",
      "I1217 08:55:43.659925 140417485649792 utils.py:45] yolo_darknet/conv2d_51 bn\n",
      "I1217 08:55:43.726132 140417485649792 utils.py:45] yolo_conv_0/conv2d_52 bn\n",
      "I1217 08:55:43.730735 140417485649792 utils.py:45] yolo_conv_0/conv2d_53 bn\n",
      "I1217 08:55:43.803147 140417485649792 utils.py:45] yolo_conv_0/conv2d_54 bn\n",
      "I1217 08:55:43.810759 140417485649792 utils.py:45] yolo_conv_0/conv2d_55 bn\n",
      "I1217 08:55:43.883733 140417485649792 utils.py:45] yolo_conv_0/conv2d_56 bn\n",
      "I1217 08:55:43.888566 140417485649792 utils.py:45] yolo_output_0/conv2d_57 bn\n",
      "I1217 08:55:43.951588 140417485649792 utils.py:45] yolo_output_0/conv2d_58 bias\n",
      "I1217 08:55:43.954723 140417485649792 utils.py:45] yolo_conv_1/conv2d_59 bn\n",
      "I1217 08:55:43.957078 140417485649792 utils.py:45] yolo_conv_1/conv2d_60 bn\n",
      "I1217 08:55:43.959563 140417485649792 utils.py:45] yolo_conv_1/conv2d_61 bn\n",
      "I1217 08:55:43.968660 140417485649792 utils.py:45] yolo_conv_1/conv2d_62 bn\n",
      "I1217 08:55:43.971168 140417485649792 utils.py:45] yolo_conv_1/conv2d_63 bn\n",
      "I1217 08:55:43.979537 140417485649792 utils.py:45] yolo_conv_1/conv2d_64 bn\n",
      "I1217 08:55:43.981911 140417485649792 utils.py:45] yolo_output_1/conv2d_65 bn\n",
      "I1217 08:55:43.990656 140417485649792 utils.py:45] yolo_output_1/conv2d_66 bias\n",
      "I1217 08:55:43.992729 140417485649792 utils.py:45] yolo_conv_2/conv2d_67 bn\n",
      "I1217 08:55:43.996128 140417485649792 utils.py:45] yolo_conv_2/conv2d_68 bn\n",
      "I1217 08:55:43.998792 140417485649792 utils.py:45] yolo_conv_2/conv2d_69 bn\n",
      "I1217 08:55:44.002895 140417485649792 utils.py:45] yolo_conv_2/conv2d_70 bn\n",
      "I1217 08:55:44.004862 140417485649792 utils.py:45] yolo_conv_2/conv2d_71 bn\n",
      "I1217 08:55:44.008068 140417485649792 utils.py:45] yolo_conv_2/conv2d_72 bn\n",
      "I1217 08:55:44.009981 140417485649792 utils.py:45] yolo_output_2/conv2d_73 bn\n",
      "I1217 08:55:44.012983 140417485649792 utils.py:45] yolo_output_2/conv2d_74 bias\n",
      "I1217 08:55:44.013989 140417485649792 convert.py:22] weights loaded\n",
      "I1217 08:55:45.333309 140417485649792 convert.py:26] sanity check passed\n",
      "I1217 08:55:46.126101 140417485649792 convert.py:29] weights saved\n"
     ]
    }
   ],
   "source": [
    "!wget https://pjreddie.com/media/files/yolov3.weights -O data/yolov3.weights\n",
    "!python convert.py"
   ]
  },
  {
   "cell_type": "code",
   "execution_count": 0,
   "metadata": {
    "colab": {
     "base_uri": "https://localhost:8080/",
     "height": 1000
    },
    "colab_type": "code",
    "id": "GoVWiYfFRaXn",
    "outputId": "bda9058e-1393-4cd3-f2a7-9d1b8840038a"
   },
   "outputs": [
    {
     "name": "stdout",
     "output_type": "stream",
     "text": [
      "--2019-12-17 08:56:01--  https://pjreddie.com/media/files/yolov3-tiny.weights\n",
      "Resolving pjreddie.com (pjreddie.com)... 128.208.4.108\n",
      "Connecting to pjreddie.com (pjreddie.com)|128.208.4.108|:443... connected.\n",
      "HTTP request sent, awaiting response... 200 OK\n",
      "Length: 35434956 (34M) [application/octet-stream]\n",
      "Saving to: ‘data/yolov3-tiny.weights’\n",
      "\n",
      "data/yolov3-tiny.we 100%[===================>]  33.79M  5.46MB/s    in 7.8s    \n",
      "\n",
      "2019-12-17 08:56:09 (4.34 MB/s) - ‘data/yolov3-tiny.weights’ saved [35434956/35434956]\n",
      "\n",
      "2019-12-17 08:56:13.376590: I tensorflow/core/platform/cpu_feature_guard.cc:142] Your CPU supports instructions that this TensorFlow binary was not compiled to use: AVX2 FMA\n",
      "2019-12-17 08:56:13.382789: I tensorflow/core/platform/profile_utils/cpu_utils.cc:94] CPU Frequency: 2300000000 Hz\n",
      "2019-12-17 08:56:13.384086: I tensorflow/compiler/xla/service/service.cc:168] XLA service 0x12c2bc0 executing computations on platform Host. Devices:\n",
      "2019-12-17 08:56:13.384134: I tensorflow/compiler/xla/service/service.cc:175]   StreamExecutor device (0): Host, Default Version\n",
      "Model: \"yolov3_tiny\"\n",
      "__________________________________________________________________________________________________\n",
      "Layer (type)                    Output Shape         Param #     Connected to                     \n",
      "==================================================================================================\n",
      "input_1 (InputLayer)            [(None, None, None,  0                                            \n",
      "__________________________________________________________________________________________________\n",
      "yolo_darknet (Model)            ((None, None, None,  6298480     input_1[0][0]                    \n",
      "__________________________________________________________________________________________________\n",
      "yolo_conv_0 (Model)             (None, None, None, 2 263168      yolo_darknet[1][1]               \n",
      "__________________________________________________________________________________________________\n",
      "yolo_conv_1 (Model)             (None, None, None, 3 33280       yolo_conv_0[1][0]                \n",
      "                                                                 yolo_darknet[1][0]               \n",
      "__________________________________________________________________________________________________\n",
      "yolo_output_0 (Model)           (None, None, None, 3 1312511     yolo_conv_0[1][0]                \n",
      "__________________________________________________________________________________________________\n",
      "yolo_output_1 (Model)           (None, None, None, 3 951295      yolo_conv_1[1][0]                \n",
      "__________________________________________________________________________________________________\n",
      "yolo_boxes_0 (Lambda)           ((None, None, None,  0           yolo_output_0[1][0]              \n",
      "__________________________________________________________________________________________________\n",
      "yolo_boxes_1 (Lambda)           ((None, None, None,  0           yolo_output_1[1][0]              \n",
      "__________________________________________________________________________________________________\n",
      "yolo_nms (Lambda)               ((None, 100, 4), (No 0           yolo_boxes_0[0][0]               \n",
      "                                                                 yolo_boxes_0[0][1]               \n",
      "                                                                 yolo_boxes_0[0][2]               \n",
      "                                                                 yolo_boxes_1[0][0]               \n",
      "                                                                 yolo_boxes_1[0][1]               \n",
      "                                                                 yolo_boxes_1[0][2]               \n",
      "==================================================================================================\n",
      "Total params: 8,858,734\n",
      "Trainable params: 8,852,366\n",
      "Non-trainable params: 6,368\n",
      "__________________________________________________________________________________________________\n",
      "I1217 08:56:15.115252 140231483365248 convert.py:19] model created\n",
      "I1217 08:56:15.116079 140231483365248 utils.py:45] yolo_darknet/conv2d bn\n",
      "I1217 08:56:15.117856 140231483365248 utils.py:45] yolo_darknet/conv2d_1 bn\n",
      "I1217 08:56:15.119300 140231483365248 utils.py:45] yolo_darknet/conv2d_2 bn\n",
      "I1217 08:56:15.120743 140231483365248 utils.py:45] yolo_darknet/conv2d_3 bn\n",
      "I1217 08:56:15.122542 140231483365248 utils.py:45] yolo_darknet/conv2d_4 bn\n",
      "I1217 08:56:15.125455 140231483365248 utils.py:45] yolo_darknet/conv2d_5 bn\n",
      "I1217 08:56:15.134345 140231483365248 utils.py:45] yolo_darknet/conv2d_6 bn\n",
      "I1217 08:56:15.200268 140231483365248 utils.py:45] yolo_conv_0/conv2d_7 bn\n",
      "I1217 08:56:15.203488 140231483365248 utils.py:45] yolo_output_0/conv2d_8 bn\n",
      "I1217 08:56:15.211843 140231483365248 utils.py:45] yolo_output_0/conv2d_9 bias\n",
      "I1217 08:56:15.213677 140231483365248 utils.py:45] yolo_conv_1/conv2d_10 bn\n",
      "I1217 08:56:15.215116 140231483365248 utils.py:45] yolo_output_1/conv2d_11 bn\n",
      "I1217 08:56:15.220775 140231483365248 utils.py:45] yolo_output_1/conv2d_12 bias\n",
      "I1217 08:56:15.221989 140231483365248 convert.py:22] weights loaded\n",
      "I1217 08:56:15.412395 140231483365248 convert.py:26] sanity check passed\n",
      "I1217 08:56:15.477632 140231483365248 convert.py:29] weights saved\n"
     ]
    }
   ],
   "source": [
    "!wget https://pjreddie.com/media/files/yolov3-tiny.weights -O data/yolov3-tiny.weights\n",
    "!python convert.py --weights ./data/yolov3-tiny.weights --output ./checkpoints/yolov3-tiny.tf --tiny"
   ]
  },
  {
   "cell_type": "code",
   "execution_count": 0,
   "metadata": {
    "colab": {
     "base_uri": "https://localhost:8080/",
     "height": 34
    },
    "colab_type": "code",
    "id": "2vWcv-qg6aiI",
    "outputId": "f3629940-7028-48bf-9a53-d3e7c1a7e60e"
   },
   "outputs": [
    {
     "name": "stdout",
     "output_type": "stream",
     "text": [
      "/content/yolov3-tf2\n"
     ]
    }
   ],
   "source": [
    "%cd yolov3-tf2/"
   ]
  },
  {
   "cell_type": "code",
   "execution_count": 0,
   "metadata": {
    "colab": {
     "base_uri": "https://localhost:8080/",
     "height": 289
    },
    "colab_type": "code",
    "id": "aiFzO3Rh6kk7",
    "outputId": "00373219-58d9-4f9e-f2b8-baeb87a1a15c"
   },
   "outputs": [
    {
     "name": "stdout",
     "output_type": "stream",
     "text": [
      "2019-12-17 08:56:24.168566: I tensorflow/core/platform/cpu_feature_guard.cc:142] Your CPU supports instructions that this TensorFlow binary was not compiled to use: AVX2 FMA\n",
      "2019-12-17 08:56:24.173580: I tensorflow/core/platform/profile_utils/cpu_utils.cc:94] CPU Frequency: 2300000000 Hz\n",
      "2019-12-17 08:56:24.173864: I tensorflow/compiler/xla/service/service.cc:168] XLA service 0x2c72bc0 executing computations on platform Host. Devices:\n",
      "2019-12-17 08:56:24.173909: I tensorflow/compiler/xla/service/service.cc:175]   StreamExecutor device (0): Host, Default Version\n",
      "I1217 08:56:33.946121 139948973483904 detect.py:34] weights loaded\n",
      "I1217 08:56:33.946867 139948973483904 detect.py:37] classes loaded\n",
      "I1217 08:56:35.930070 139948973483904 detect.py:46] time: 1.9448659420013428\n",
      "I1217 08:56:35.930362 139948973483904 detect.py:48] detections:\n",
      "I1217 08:56:35.932271 139948973483904 detect.py:52] \tcup, 0.9980730414390564, [0.14266217 0.52777606 0.27184254 0.65748256]\n",
      "I1217 08:56:35.933444 139948973483904 detect.py:52] \tperson, 0.9976975321769714, [0.28982913 0.0985465  0.95846486 0.9202168 ]\n",
      "I1217 08:56:35.934569 139948973483904 detect.py:52] \tlaptop, 0.9846141338348389, [0.        0.3949369 0.5229728 0.7962775]\n",
      "I1217 08:56:35.935672 139948973483904 detect.py:52] \tapple, 0.9082658290863037, [0.13114461 0.77143586 0.22893354 0.90729535]\n",
      "I1217 08:56:35.936780 139948973483904 detect.py:52] \tchair, 0.7784969806671143, [0.2950731  0.30677187 0.9998861  0.9955944 ]\n",
      "I1217 08:56:35.937886 139948973483904 detect.py:52] \tcell phone, 0.7346768379211426, [0.18850094 0.87569416 0.33501852 0.9422209 ]\n",
      "I1217 08:56:35.939001 139948973483904 detect.py:52] \tclock, 0.6703547239303589, [0.4010809  0.2124461  0.49267417 0.35021502]\n",
      "I1217 08:56:36.126801 139948973483904 detect.py:57] output saved to: ./output.jpg\n"
     ]
    }
   ],
   "source": [
    "!python detect.py --image ./data/meme.jpg"
   ]
  },
  {
   "cell_type": "code",
   "execution_count": 0,
   "metadata": {
    "colab": {
     "base_uri": "https://localhost:8080/",
     "height": 459
    },
    "colab_type": "code",
    "id": "a-Wv9b9d6mju",
    "outputId": "798b2e21-fee1-4587-ea15-a98b5f15eb76"
   },
   "outputs": [
    {
     "name": "stdout",
     "output_type": "stream",
     "text": [
      "Archive:  /content/cristaux-PascalVOC-export.zip\n",
      "   creating: cristaux-PascalVOC-export/Annotations/\n",
      "  inflating: cristaux-PascalVOC-export/Annotations/bulle_d%C3%A9but.xml  \n",
      "  inflating: cristaux-PascalVOC-export/Annotations/bulle_d%C3%A9but1.xml  \n",
      "  inflating: cristaux-PascalVOC-export/Annotations/d%C3%A9but_cuite.xml  \n",
      "  inflating: cristaux-PascalVOC-export/Annotations/milieu.xml  \n",
      "  inflating: cristaux-PascalVOC-export/Annotations/milieu2.xml  \n",
      "  inflating: cristaux-PascalVOC-export/Annotations/xfin_cuite.xml  \n",
      "  inflating: cristaux-PascalVOC-export/Annotations/xfin_cuite2.xml  \n",
      "   creating: cristaux-PascalVOC-export/ImageSets/\n",
      "   creating: cristaux-PascalVOC-export/ImageSets/Main/\n",
      "  inflating: cristaux-PascalVOC-export/ImageSets/Main/amas_train.txt  \n",
      "  inflating: cristaux-PascalVOC-export/ImageSets/Main/amas_val.txt  \n",
      "  inflating: cristaux-PascalVOC-export/ImageSets/Main/bulles_train.txt  \n",
      "  inflating: cristaux-PascalVOC-export/ImageSets/Main/bulles_val.txt  \n",
      "  inflating: cristaux-PascalVOC-export/ImageSets/Main/cristaux_train.txt  \n",
      "  inflating: cristaux-PascalVOC-export/ImageSets/Main/cristaux_val.txt  \n",
      "   creating: cristaux-PascalVOC-export/JPEGImages/\n",
      "  inflating: cristaux-PascalVOC-export/JPEGImages/bulle_d%C3%A9but.jpg  \n",
      "  inflating: cristaux-PascalVOC-export/JPEGImages/bulle_d%C3%A9but1.jpg  \n",
      "  inflating: cristaux-PascalVOC-export/JPEGImages/d%C3%A9but_cuite.jpg  \n",
      "  inflating: cristaux-PascalVOC-export/JPEGImages/milieu.jpg  \n",
      "  inflating: cristaux-PascalVOC-export/JPEGImages/milieu2.jpg  \n",
      "  inflating: cristaux-PascalVOC-export/JPEGImages/xfin_cuite.jpg  \n",
      "  inflating: cristaux-PascalVOC-export/JPEGImages/xfin_cuite2.jpg  \n",
      "  inflating: cristaux-PascalVOC-export/pascal_label_map.pbtxt  \n"
     ]
    }
   ],
   "source": [
    "!unzip /content/cristaux-PascalVOC-export.zip\n"
   ]
  },
  {
   "cell_type": "code",
   "execution_count": 0,
   "metadata": {
    "colab": {
     "base_uri": "https://localhost:8080/",
     "height": 85
    },
    "colab_type": "code",
    "id": "dTo1eTai6paG",
    "outputId": "8687c90e-c90c-4036-b30d-0955442bcf36"
   },
   "outputs": [
    {
     "name": "stdout",
     "output_type": "stream",
     "text": [
      "Traceback (most recent call last):\n",
      "  File \"pascal_to_tf.py\", line 36, in <module>\n",
      "    from object_detection.utils import dataset_util\n",
      "ModuleNotFoundError: No module named 'object_detection'\n"
     ]
    }
   ],
   "source": [
    "!python pascal_to_tf.py --data_dir= ./cristaux-PascalVOC-export/ --year=VOC2012 \\ --output_path=./pascal.record"
   ]
  },
  {
   "cell_type": "code",
   "execution_count": 0,
   "metadata": {
    "colab": {},
    "colab_type": "code",
    "id": "-vENZFcueWRf"
   },
   "outputs": [],
   "source": [
    "git_repo_url1 = 'https://github.com/tensorflow/models.git'\n",
    "project_name1 = splitext(basename(git_repo_url1))[0]\n",
    "if not exists(project_name1):\n",
    "  # clone and install dependencies\n",
    "  !git clone -q $git_repo_url1\n",
    "  !cd $project_name1 "
   ]
  },
  {
   "cell_type": "code",
   "execution_count": 0,
   "metadata": {
    "colab": {
     "base_uri": "https://localhost:8080/",
     "height": 34
    },
    "colab_type": "code",
    "id": "RuxGBadUh6WW",
    "outputId": "de65e9d7-7be7-4982-b4e3-bfaa9ff3c760"
   },
   "outputs": [
    {
     "name": "stdout",
     "output_type": "stream",
     "text": [
      "/content/yolov3-tf2\n"
     ]
    }
   ],
   "source": [
    "%cd /content/yolov3-tf2/models/research/"
   ]
  },
  {
   "cell_type": "code",
   "execution_count": 0,
   "metadata": {
    "colab": {},
    "colab_type": "code",
    "id": "XXTr-KM0if-6"
   },
   "outputs": [],
   "source": [
    "!rm -r yolov3-tf2/"
   ]
  },
  {
   "cell_type": "code",
   "execution_count": 0,
   "metadata": {
    "colab": {
     "base_uri": "https://localhost:8080/",
     "height": 34
    },
    "colab_type": "code",
    "id": "OxMN0azeii18",
    "outputId": "50989f22-97bf-4f9d-c8f6-12ba73d6c151"
   },
   "outputs": [
    {
     "name": "stdout",
     "output_type": "stream",
     "text": [
      "/content/yolov3-tf2/models/research\n"
     ]
    }
   ],
   "source": [
    "%cd /content/yolov3-tf2/models/research"
   ]
  },
  {
   "cell_type": "code",
   "execution_count": 0,
   "metadata": {
    "colab": {
     "base_uri": "https://localhost:8080/",
     "height": 85
    },
    "colab_type": "code",
    "id": "7rhc3mJmi3Sc",
    "outputId": "0938aa6e-1091-46ef-a0c1-7318ce7191ca"
   },
   "outputs": [
    {
     "name": "stdout",
     "output_type": "stream",
     "text": [
      "Traceback (most recent call last):\n",
      "  File \"object_detection/dataset_tools/create_pascal_tf_record.py\", line 41, in <module>\n",
      "    flags = tf.app.flags\n",
      "AttributeError: module 'tensorflow' has no attribute 'app'\n"
     ]
    }
   ],
   "source": [
    "!python object_detection/dataset_tools/create_pascal_tf_record.py \\ --data_dir= /content/yolov3-tf2/cristaux-PascalVOC-export/ --year=VOC2012 \\ --output_path=./pascal.record"
   ]
  },
  {
   "cell_type": "code",
   "execution_count": 0,
   "metadata": {
    "colab": {},
    "colab_type": "code",
    "id": "5iXXMN_ijGXY"
   },
   "outputs": [],
   "source": [
    "!export PYTHONPATH=$PYTHONPATH:pwd"
   ]
  },
  {
   "cell_type": "code",
   "execution_count": 0,
   "metadata": {
    "colab": {
     "base_uri": "https://localhost:8080/",
     "height": 34
    },
    "colab_type": "code",
    "id": "j_nPlyBGj579",
    "outputId": "afc60005-e835-4a99-e211-269e44fed9cc"
   },
   "outputs": [
    {
     "name": "stdout",
     "output_type": "stream",
     "text": [
      "/bin/bash: /env/python: No such file or directory\n"
     ]
    }
   ],
   "source": []
  },
  {
   "cell_type": "code",
   "execution_count": 0,
   "metadata": {
    "colab": {
     "base_uri": "https://localhost:8080/",
     "height": 34
    },
    "colab_type": "code",
    "id": "U9-NjynakogW",
    "outputId": "1c02b7ab-e969-4cdd-d127-05a442661839"
   },
   "outputs": [
    {
     "name": "stdout",
     "output_type": "stream",
     "text": [
      "/env/python:/content/yolov3-tf2/models/:/content/yolov3-tf2/models/research/object_detection\n"
     ]
    }
   ],
   "source": [
    "!echo $PYTHONPATH"
   ]
  },
  {
   "cell_type": "code",
   "execution_count": 0,
   "metadata": {
    "colab": {
     "base_uri": "https://localhost:8080/",
     "height": 51
    },
    "colab_type": "code",
    "id": "crEpDqnjly4m",
    "outputId": "e2b44688-bc5a-42b7-82de-74f2bf308fae"
   },
   "outputs": [
    {
     "name": "stdout",
     "output_type": "stream",
     "text": [
      "/env/python:/content/yolov3-tf2/models/:/content/yolov3-tf2/models/research/object_detection:/content/yolov3-tf2/models/research\n",
      "/env/python:/content/yolov3-tf2/models/:/content/yolov3-tf2/models/research/object_detection:/content/yolov3-tf2/models/research:/content/yolov3-tf2/models/research/slim\n"
     ]
    }
   ],
   "source": [
    "!echo $PYTHONPATH\n",
    "\n",
    "import os\n",
    "os.environ['PYTHONPATH'] += \":/content/yolov3-tf2/models/research/slim\"\n",
    "\n",
    "!echo $PYTHONPATH"
   ]
  },
  {
   "cell_type": "code",
   "execution_count": 0,
   "metadata": {
    "colab": {},
    "colab_type": "code",
    "id": "JWdKR08kmUbN"
   },
   "outputs": [],
   "source": [
    "!sudo apt-get install protobuf-compiler python-pil python-lxml python-tk\n",
    "!pip install --user Cython\n",
    "!pip install --user contextlib2\n",
    "!pip install --user matplotlib"
   ]
  },
  {
   "cell_type": "code",
   "execution_count": 0,
   "metadata": {
    "colab": {
     "base_uri": "https://localhost:8080/",
     "height": 136
    },
    "colab_type": "code",
    "id": "1B3sTzZxnh0J",
    "outputId": "8050a2c6-2a8c-4e4d-bca0-491bb9a1267c"
   },
   "outputs": [
    {
     "name": "stdout",
     "output_type": "stream",
     "text": [
      "Cloning into 'darknet-YOLO-V2-example'...\n",
      "remote: Enumerating objects: 1053, done.\u001b[K\n",
      "remote: Counting objects:   0% (1/1053)\u001b[K\r",
      "remote: Counting objects:   1% (11/1053)\u001b[K\r",
      "remote: Counting objects:   2% (22/1053)\u001b[K\r",
      "remote: Counting objects:   3% (32/1053)\u001b[K\r",
      "remote: Counting objects:   4% (43/1053)\u001b[K\r",
      "remote: Counting objects:   5% (53/1053)\u001b[K\r",
      "remote: Counting objects:   6% (64/1053)\u001b[K\r",
      "remote: Counting objects:   7% (74/1053)\u001b[K\r",
      "remote: Counting objects:   8% (85/1053)\u001b[K\r",
      "remote: Counting objects:   9% (95/1053)\u001b[K\r",
      "remote: Counting objects:  10% (106/1053)\u001b[K\r",
      "remote: Counting objects:  11% (116/1053)\u001b[K\r",
      "remote: Counting objects:  12% (127/1053)\u001b[K\r",
      "remote: Counting objects:  13% (137/1053)\u001b[K\r",
      "remote: Counting objects:  14% (148/1053)\u001b[K\r",
      "remote: Counting objects:  15% (158/1053)\u001b[K\r",
      "remote: Counting objects:  16% (169/1053)\u001b[K\r",
      "remote: Counting objects:  17% (180/1053)\u001b[K\r",
      "remote: Counting objects:  18% (190/1053)\u001b[K\r",
      "remote: Counting objects:  19% (201/1053)\u001b[K\r",
      "remote: Counting objects:  20% (211/1053)\u001b[K\r",
      "remote: Counting objects:  21% (222/1053)\u001b[K\r",
      "remote: Counting objects:  22% (232/1053)\u001b[K\r",
      "remote: Counting objects:  23% (243/1053)\u001b[K\r",
      "remote: Counting objects:  24% (253/1053)\u001b[K\r",
      "remote: Counting objects:  25% (264/1053)\u001b[K\r",
      "remote: Counting objects:  26% (274/1053)\u001b[K\r",
      "remote: Counting objects:  27% (285/1053)\u001b[K\r",
      "remote: Counting objects:  28% (295/1053)\u001b[K\r",
      "remote: Counting objects:  29% (306/1053)\u001b[K\r",
      "remote: Counting objects:  30% (316/1053)\u001b[K\r",
      "remote: Counting objects:  31% (327/1053)\u001b[K\r",
      "remote: Counting objects:  32% (337/1053)\u001b[K\r",
      "remote: Counting objects:  33% (348/1053)\u001b[K\r",
      "remote: Counting objects:  34% (359/1053)\u001b[K\r",
      "remote: Counting objects:  35% (369/1053)\u001b[K\r",
      "remote: Counting objects:  36% (380/1053)\u001b[K\r",
      "remote: Counting objects:  37% (390/1053)\u001b[K\r",
      "remote: Counting objects:  38% (401/1053)\u001b[K\r",
      "remote: Counting objects:  39% (411/1053)\u001b[K\r",
      "remote: Counting objects:  40% (422/1053)\u001b[K\r",
      "remote: Counting objects:  41% (432/1053)\u001b[K\r",
      "remote: Counting objects:  42% (443/1053)\u001b[K\r",
      "remote: Counting objects:  43% (453/1053)\u001b[K\r",
      "remote: Counting objects:  44% (464/1053)\u001b[K\r",
      "remote: Counting objects:  45% (474/1053)\u001b[K\r",
      "remote: Counting objects:  46% (485/1053)\u001b[K\r",
      "remote: Counting objects:  47% (495/1053)\u001b[K\r",
      "remote: Counting objects:  48% (506/1053)\u001b[K\r",
      "remote: Counting objects:  49% (516/1053)\u001b[K\r",
      "remote: Counting objects:  50% (527/1053)\u001b[K\r",
      "remote: Counting objects:  51% (538/1053)\u001b[K\r",
      "remote: Counting objects:  52% (548/1053)\u001b[K\r",
      "remote: Counting objects:  53% (559/1053)\u001b[K\r",
      "remote: Counting objects:  54% (569/1053)\u001b[K\r",
      "remote: Counting objects:  55% (580/1053)\u001b[K\r",
      "remote: Counting objects:  56% (590/1053)\u001b[K\r",
      "remote: Counting objects:  57% (601/1053)\u001b[K\r",
      "remote: Counting objects:  58% (611/1053)\u001b[K\r",
      "remote: Counting objects:  59% (622/1053)\u001b[K\r",
      "remote: Counting objects:  60% (632/1053)\u001b[K\r",
      "remote: Counting objects:  61% (643/1053)\u001b[K\r",
      "remote: Counting objects:  62% (653/1053)\u001b[K\r",
      "remote: Counting objects:  63% (664/1053)\u001b[K\r",
      "remote: Counting objects:  64% (674/1053)\u001b[K\r",
      "remote: Counting objects:  65% (685/1053)\u001b[K\r",
      "remote: Counting objects:  66% (695/1053)\u001b[K\r",
      "remote: Counting objects:  67% (706/1053)\u001b[K\r",
      "remote: Counting objects:  68% (717/1053)\u001b[K\r",
      "remote: Counting objects:  69% (727/1053)\u001b[K\r",
      "remote: Counting objects:  70% (738/1053)\u001b[K\r",
      "remote: Counting objects:  71% (748/1053)\u001b[K\r",
      "remote: Counting objects:  72% (759/1053)\u001b[K\r",
      "remote: Counting objects:  73% (769/1053)\u001b[K\r",
      "remote: Counting objects:  74% (780/1053)\u001b[K\r",
      "remote: Counting objects:  75% (790/1053)\u001b[K\r",
      "remote: Counting objects:  76% (801/1053)\u001b[K\r",
      "remote: Counting objects:  77% (811/1053)\u001b[K\r",
      "remote: Counting objects:  78% (822/1053)\u001b[K\r",
      "remote: Counting objects:  79% (832/1053)\u001b[K\r",
      "remote: Counting objects:  80% (843/1053)\u001b[K\r",
      "remote: Counting objects:  81% (853/1053)\u001b[K\r",
      "remote: Counting objects:  82% (864/1053)\u001b[K\r",
      "remote: Counting objects:  83% (874/1053)\u001b[K\r",
      "remote: Counting objects:  84% (885/1053)\u001b[K\r",
      "remote: Counting objects:  85% (896/1053)\u001b[K\r",
      "remote: Counting objects:  86% (906/1053)\u001b[K\r",
      "remote: Counting objects:  87% (917/1053)\u001b[K\r",
      "remote: Counting objects:  88% (927/1053)\u001b[K\r",
      "remote: Counting objects:  89% (938/1053)\u001b[K\r",
      "remote: Counting objects:  90% (948/1053)\u001b[K\r",
      "remote: Counting objects:  91% (959/1053)\u001b[K\r",
      "remote: Counting objects:  92% (969/1053)\u001b[K\r",
      "remote: Counting objects:  93% (980/1053)\u001b[K\r",
      "remote: Counting objects:  94% (990/1053)\u001b[K\r",
      "remote: Counting objects:  95% (1001/1053)\u001b[K\r",
      "remote: Counting objects:  96% (1011/1053)\u001b[K\r",
      "remote: Counting objects:  97% (1022/1053)\u001b[K\r",
      "remote: Counting objects:  98% (1032/1053)\u001b[K\r",
      "remote: Counting objects:  99% (1043/1053)\u001b[K\r",
      "remote: Counting objects: 100% (1053/1053)\u001b[K\r",
      "remote: Counting objects: 100% (1053/1053), done.\u001b[K\n",
      "remote: Compressing objects: 100% (840/840), done.\u001b[K\n",
      "remote: Total 1053 (delta 212), reused 1053 (delta 212), pack-reused 0\u001b[K\n",
      "Receiving objects: 100% (1053/1053), 79.79 MiB | 44.35 MiB/s, done.\n",
      "Resolving deltas: 100% (212/212), done.\n"
     ]
    }
   ],
   "source": [
    "!git clone 'https://github.com/brandonjabr/darknet-YOLO-V2-example.git'"
   ]
  },
  {
   "cell_type": "code",
   "execution_count": 0,
   "metadata": {
    "colab": {},
    "colab_type": "code",
    "id": "yKR6Nbz1RDID"
   },
   "outputs": [],
   "source": [
    "!sudo apt-get install xorg openbox"
   ]
  },
  {
   "cell_type": "code",
   "execution_count": 0,
   "metadata": {
    "colab": {
     "base_uri": "https://localhost:8080/",
     "height": 136
    },
    "colab_type": "code",
    "id": "Ms5UaDRdJmZ5",
    "outputId": "afd59863-ef6d-4cd8-deae-270f863c6c61"
   },
   "outputs": [
    {
     "name": "stdout",
     "output_type": "stream",
     "text": [
      "2019-12-17 09:58:48.743987: I tensorflow/core/platform/cpu_feature_guard.cc:142] Your CPU supports instructions that this TensorFlow binary was not compiled to use: AVX2 FMA\n",
      "2019-12-17 09:58:48.748966: I tensorflow/core/platform/profile_utils/cpu_utils.cc:94] CPU Frequency: 2300000000 Hz\n",
      "2019-12-17 09:58:48.749343: I tensorflow/compiler/xla/service/service.cc:168] XLA service 0x24fabc0 executing computations on platform Host. Devices:\n",
      "2019-12-17 09:58:48.749393: I tensorflow/compiler/xla/service/service.cc:175]   StreamExecutor device (0): Host, Default Version\n",
      "I1217 09:58:50.547031 140553525847936 detect_video.py:36] weights loaded\n",
      "I1217 09:58:50.547549 140553525847936 detect_video.py:39] classes loaded\n",
      ": cannot connect to X server \n"
     ]
    }
   ],
   "source": [
    "!python detect_video.py --video ./data/Office-Parkour.mp4 --weights ./checkpoints/yolov3-tiny.tf --tiny --output ./output.avi"
   ]
  },
  {
   "cell_type": "code",
   "execution_count": 0,
   "metadata": {
    "colab": {},
    "colab_type": "code",
    "id": "kdpxoB7EJ2mg"
   },
   "outputs": [],
   "source": [
    "!sudo rm -r darknet-YOLO-V2-example/"
   ]
  },
  {
   "cell_type": "code",
   "execution_count": 0,
   "metadata": {
    "colab": {
     "base_uri": "https://localhost:8080/",
     "height": 51
    },
    "colab_type": "code",
    "id": "79eKU8FTOAJK",
    "outputId": "d2faf496-e5bf-49f4-f16e-2ae46260567d"
   },
   "outputs": [
    {
     "name": "stderr",
     "output_type": "stream",
     "text": [
      "FATAL Flags parsing error: Unknown command line flag 'f'\n",
      "Pass --helpshort or --helpfull to see help on flags.\n"
     ]
    }
   ],
   "source": [
    "import time\n",
    "from absl import app, flags, logging\n",
    "from absl.flags import FLAGS\n",
    "import cv2\n",
    "import numpy as np\n",
    "import tensorflow as tf\n",
    "from yolov3_tf2.models import (\n",
    "    YoloV3, YoloV3Tiny\n",
    ")\n",
    "from yolov3_tf2.dataset import transform_images\n",
    "from yolov3_tf2.utils import draw_outputs\n",
    "\n",
    "flags.DEFINE_string('classes', './data/coco.names', 'path to classes file')\n",
    "flags.DEFINE_string('weights', './checkpoints/yolov3.tf',\n",
    "                    'path to weights file')\n",
    "flags.DEFINE_boolean('tiny', False, 'yolov3 or yolov3-tiny')\n",
    "flags.DEFINE_integer('size', 416, 'resize images to')\n",
    "flags.DEFINE_string('image', './data/girl.png', 'path to input image')\n",
    "flags.DEFINE_string('output', './output.jpg', 'path to output image')\n",
    "flags.DEFINE_integer('num_classes', 80, 'number of classes in the model')\n",
    "\n",
    "\n",
    "def main():\n",
    "    physical_devices = tf.config.experimental.list_physical_devices('GPU')\n",
    "    if len(physical_devices) > 0:\n",
    "        tf.config.experimental.set_memory_growth(physical_devices[0], True)\n",
    "\n",
    "    if FLAGS.tiny:\n",
    "        yolo = YoloV3Tiny(classes=FLAGS.num_classes)\n",
    "    else:\n",
    "        yolo = YoloV3(classes=FLAGS.num_classes)\n",
    "\n",
    "    yolo.load_weights(FLAGS.weights)\n",
    "    logging.info('weights loaded')\n",
    "\n",
    "    class_names = [c.strip() for c in open(FLAGS.classes).readlines()]\n",
    "    logging.info('classes loaded')\n",
    "\n",
    "    img = tf.image.decode_image(open(FLAGS.image, 'rb').read(), channels=3)\n",
    "    img = tf.expand_dims(img, 0)\n",
    "    img = transform_images(img, FLAGS.size)\n",
    "\n",
    "    t1 = time.time()\n",
    "    boxes, scores, classes, nums = yolo(img)\n",
    "    t2 = time.time()\n",
    "    logging.info('time: {}'.format(t2 - t1))\n",
    "\n",
    "    logging.info('detections:')\n",
    "    for i in range(nums[0]):\n",
    "        logging.info('\\t{}, {}, {}'.format(class_names[int(classes[0][i])],\n",
    "                                           np.array(scores[0][i]),\n",
    "                                           np.array(boxes[0][i])))\n",
    "\n",
    "    img = cv2.imread(FLAGS.image)\n",
    "    img = draw_outputs(img, (boxes, scores, classes, nums), class_names)\n",
    "    cv2.imwrite(FLAGS.output, img)\n",
    "    logging.info('output saved to: {}'.format(FLAGS.output))\n",
    "\n",
    "if __name__ == '__main__':\n",
    "    try:\n",
    "        app.run(main)\n",
    "    except SystemExit:\n",
    "        pass"
   ]
  },
  {
   "cell_type": "code",
   "execution_count": 0,
   "metadata": {
    "colab": {},
    "colab_type": "code",
    "id": "AB58nY_6dumq"
   },
   "outputs": [],
   "source": []
  }
 ],
 "metadata": {
  "accelerator": "GPU",
  "colab": {
   "collapsed_sections": [],
   "name": "yolo.ipynb",
   "provenance": []
  },
  "kernelspec": {
   "display_name": "Python 3",
   "language": "python",
   "name": "python3"
  },
  "language_info": {
   "codemirror_mode": {
    "name": "ipython",
    "version": 3
   },
   "file_extension": ".py",
   "mimetype": "text/x-python",
   "name": "python",
   "nbconvert_exporter": "python",
   "pygments_lexer": "ipython3",
   "version": "3.7.4"
  }
 },
 "nbformat": 4,
 "nbformat_minor": 1
}
